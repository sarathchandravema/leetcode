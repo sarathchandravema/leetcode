{
 "cells": [
  {
   "cell_type": "markdown",
   "id": "3f836ec0",
   "metadata": {},
   "source": [
    "#### Problem 1342"
   ]
  },
  {
   "cell_type": "code",
   "execution_count": 1,
   "id": "3d086850",
   "metadata": {},
   "outputs": [],
   "source": [
    "def numberOfSteps(num: int) -> int:\n",
    "    count = 0\n",
    "    def oneStep(num, count):\n",
    "        print('num   ', num)\n",
    "        if num == 0 :\n",
    "            print('final 0')\n",
    "            print('num  ', num)\n",
    "            print('count:  ' , count)\n",
    "            return (0, count)\n",
    "        elif num%2 == 0:\n",
    "            print('even')\n",
    "            num = num/2\n",
    "            count += 1\n",
    "            print('num  ', num)\n",
    "            print('count:  ' , count)\n",
    "            return oneStep(num, count)\n",
    "        else:\n",
    "            print('reducing 1')\n",
    "            num = num - 1\n",
    "            count += 1\n",
    "            print('num  ', num)\n",
    "            print('count:  ' , count)\n",
    "            return oneStep(num,count)\n",
    "    o_,c_ = oneStep(num, count)\n",
    "    return c_"
   ]
  },
  {
   "cell_type": "code",
   "execution_count": 2,
   "id": "8649ffb3",
   "metadata": {
    "scrolled": true
   },
   "outputs": [
    {
     "name": "stdout",
     "output_type": "stream",
     "text": [
      "num    14\n",
      "even\n",
      "num   7.0\n",
      "count:   1\n",
      "num    7.0\n",
      "reducing 1\n",
      "num   6.0\n",
      "count:   2\n",
      "num    6.0\n",
      "even\n",
      "num   3.0\n",
      "count:   3\n",
      "num    3.0\n",
      "reducing 1\n",
      "num   2.0\n",
      "count:   4\n",
      "num    2.0\n",
      "even\n",
      "num   1.0\n",
      "count:   5\n",
      "num    1.0\n",
      "reducing 1\n",
      "num   0.0\n",
      "count:   6\n",
      "num    0.0\n",
      "final 0\n",
      "num   0.0\n",
      "count:   6\n"
     ]
    },
    {
     "data": {
      "text/plain": [
       "6"
      ]
     },
     "execution_count": 2,
     "metadata": {},
     "output_type": "execute_result"
    }
   ],
   "source": [
    "numberOfSteps(14)"
   ]
  },
  {
   "cell_type": "code",
   "execution_count": 3,
   "id": "85daf3f9",
   "metadata": {},
   "outputs": [
    {
     "data": {
      "text/plain": [
       "'0b1110'"
      ]
     },
     "execution_count": 3,
     "metadata": {},
     "output_type": "execute_result"
    }
   ],
   "source": [
    "bin(14)"
   ]
  },
  {
   "cell_type": "code",
   "execution_count": 9,
   "id": "1f54de17",
   "metadata": {},
   "outputs": [],
   "source": [
    "def numberOfSteps(n: int) -> int:\n",
    "    cnt=0\n",
    "    while n:\n",
    "        if n&1:\n",
    "            n-=1\n",
    "        else:\n",
    "            n//=2\n",
    "        cnt+=1\n",
    "    return cnt"
   ]
  },
  {
   "cell_type": "code",
   "execution_count": null,
   "id": "5aaee958",
   "metadata": {},
   "outputs": [],
   "source": []
  }
 ],
 "metadata": {
  "kernelspec": {
   "display_name": "Python 3",
   "language": "python",
   "name": "python3"
  },
  "language_info": {
   "codemirror_mode": {
    "name": "ipython",
    "version": 3
   },
   "file_extension": ".py",
   "mimetype": "text/x-python",
   "name": "python",
   "nbconvert_exporter": "python",
   "pygments_lexer": "ipython3",
   "version": "3.7.0"
  }
 },
 "nbformat": 4,
 "nbformat_minor": 5
}
