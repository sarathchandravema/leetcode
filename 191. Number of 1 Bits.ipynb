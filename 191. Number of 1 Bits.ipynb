{
 "cells": [
  {
   "cell_type": "markdown",
   "id": "6d7b5b96",
   "metadata": {},
   "source": [
    "#### Problem 191"
   ]
  },
  {
   "cell_type": "markdown",
   "id": "d3a43adf",
   "metadata": {},
   "source": [
    "Write a function that takes an unsigned integer and returns the number of '1' bits it has (also known as the Hamming weight).\n",
    "\n",
    "Note:\n",
    "\n",
    "Note that in some languages, such as Java, there is no unsigned integer type. In this case, the input will be given as a signed integer type. It should not affect your implementation, as the integer's internal binary representation is the same, whether it is signed or unsigned.\n",
    "In Java, the compiler represents the signed integers using 2's complement notation. Therefore, in Example 3, the input represents the signed integer. -3."
   ]
  },
  {
   "cell_type": "markdown",
   "id": "5292ba48",
   "metadata": {},
   "source": [
    "#### Solutions\n",
    "\n",
    "* As below, based on my thoughts. converting integer to binary to list and counting \n",
    "* Using string objects, count method"
   ]
  },
  {
   "cell_type": "code",
   "execution_count": 59,
   "id": "81ba129a",
   "metadata": {},
   "outputs": [],
   "source": [
    "def hammingWeight(n: int) -> int:\n",
    "    n_ = str(bin(n))[2:]\n",
    "    list_n = list(n_)\n",
    "    return sum([1 for i in list_n if i == '1'])"
   ]
  },
  {
   "cell_type": "code",
   "execution_count": 61,
   "id": "846d663b",
   "metadata": {},
   "outputs": [],
   "source": [
    "def hammingWeight(n: int) -> int:\n",
    "    n_ = str(bin(n))[2:]\n",
    "    return n_.count('1')"
   ]
  },
  {
   "cell_type": "code",
   "execution_count": 68,
   "id": "957092e5",
   "metadata": {},
   "outputs": [],
   "source": [
    "def hammingWeight(n: int) -> int:\n",
    "    n_ = (bin(n)[2:]).replace('0', '')\n",
    "    list_n = list(n_)\n",
    "    return sum([1 for i in list_n])"
   ]
  },
  {
   "cell_type": "code",
   "execution_count": null,
   "id": "0f1df051",
   "metadata": {},
   "outputs": [],
   "source": []
  }
 ],
 "metadata": {
  "kernelspec": {
   "display_name": "Python 3",
   "language": "python",
   "name": "python3"
  },
  "language_info": {
   "codemirror_mode": {
    "name": "ipython",
    "version": 3
   },
   "file_extension": ".py",
   "mimetype": "text/x-python",
   "name": "python",
   "nbconvert_exporter": "python",
   "pygments_lexer": "ipython3",
   "version": "3.7.0"
  }
 },
 "nbformat": 4,
 "nbformat_minor": 5
}
